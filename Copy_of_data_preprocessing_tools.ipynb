{
  "nbformat": 4,
  "nbformat_minor": 0,
  "metadata": {
    "colab": {
      "provenance": [],
      "include_colab_link": true
    },
    "kernelspec": {
      "name": "python3",
      "display_name": "Python 3"
    }
  },
  "cells": [
    {
      "cell_type": "markdown",
      "metadata": {
        "id": "view-in-github",
        "colab_type": "text"
      },
      "source": [
        "<a href=\"https://colab.research.google.com/github/atef-ataya/data_preprocessing_tool/blob/main/Copy_of_data_preprocessing_tools.ipynb\" target=\"_parent\"><img src=\"https://colab.research.google.com/assets/colab-badge.svg\" alt=\"Open In Colab\"/></a>"
      ]
    },
    {
      "cell_type": "markdown",
      "metadata": {
        "id": "37puETfgRzzg"
      },
      "source": [
        "# Data Preprocessing Tools"
      ]
    },
    {
      "cell_type": "markdown",
      "metadata": {
        "id": "EoRP98MpR-qj"
      },
      "source": [
        "## 1.0 Importing the libraries"
      ]
    },
    {
      "cell_type": "code",
      "source": [
        " import numpy as np\n",
        " import pandas as pd\n",
        " import matplotlib.pyplot as plt"
      ],
      "metadata": {
        "id": "ygMLupo6pGBb"
      },
      "execution_count": 11,
      "outputs": []
    },
    {
      "cell_type": "markdown",
      "metadata": {
        "id": "RopL7tUZSQkT"
      },
      "source": [
        "## 2.0 Importing the dataset"
      ]
    },
    {
      "cell_type": "code",
      "source": [
        "dataset = pd.read_csv('Data.csv')\n",
        "X = dataset.iloc[:, :-1].values\n",
        "y = dataset.iloc[:, -1].values"
      ],
      "metadata": {
        "id": "ykOgHrh1qTHn"
      },
      "execution_count": 12,
      "outputs": []
    },
    {
      "cell_type": "code",
      "source": [
        "print(X)"
      ],
      "metadata": {
        "colab": {
          "base_uri": "https://localhost:8080/"
        },
        "id": "dsEVEjdBtWRI",
        "outputId": "cfcd6c56-f3a6-4886-d26b-db0b99197f0e"
      },
      "execution_count": 13,
      "outputs": [
        {
          "output_type": "stream",
          "name": "stdout",
          "text": [
            "[['United States' 33.0 65000.0]\n",
            " ['Canada' 47.0 35000.0]\n",
            " ['United Kingdom' 50.0 25000.0]\n",
            " ['Canada' 56.0 55000.0]\n",
            " ['United Kingdom' 25.0 nan]\n",
            " ['United States' 15.0 20000.0]\n",
            " ['United Kingdom' nan 15000.0]\n",
            " ['United States' 47.0 10000.0]\n",
            " ['United Kingdom' 32.0 90000.0]\n",
            " ['United States' 62.0 48000.0]]\n"
          ]
        }
      ]
    },
    {
      "cell_type": "code",
      "source": [
        "print(y)"
      ],
      "metadata": {
        "colab": {
          "base_uri": "https://localhost:8080/"
        },
        "id": "JiQmSStatXkf",
        "outputId": "dc7b7107-efbe-4c7a-db70-604799fc1c76"
      },
      "execution_count": 14,
      "outputs": [
        {
          "output_type": "stream",
          "name": "stdout",
          "text": [
            "['No' 'No' 'Yes' 'Yes' 'No' 'No' 'Yes' 'Yes' 'No' 'Yes']\n"
          ]
        }
      ]
    },
    {
      "cell_type": "markdown",
      "metadata": {
        "id": "nhfKXNxlSabC"
      },
      "source": [
        "## 3.0 Taking care of missing data"
      ]
    },
    {
      "cell_type": "code",
      "source": [
        "from sklearn.impute import SimpleImputer\n",
        "imputer = SimpleImputer(missing_values=np.nan, strategy = 'mean')\n",
        "imputer.fit(X[:, 1:3])\n",
        "X[:, 1:3] = imputer.transform(X[:, 1:3])"
      ],
      "metadata": {
        "id": "1pUWOImhuLL_"
      },
      "execution_count": 15,
      "outputs": []
    },
    {
      "cell_type": "code",
      "source": [
        "print(X)"
      ],
      "metadata": {
        "colab": {
          "base_uri": "https://localhost:8080/"
        },
        "id": "Y3UyIs3Fw0-s",
        "outputId": "da0095e9-287e-4856-a01c-8809a4387191"
      },
      "execution_count": 16,
      "outputs": [
        {
          "output_type": "stream",
          "name": "stdout",
          "text": [
            "[['United States' 33.0 65000.0]\n",
            " ['Canada' 47.0 35000.0]\n",
            " ['United Kingdom' 50.0 25000.0]\n",
            " ['Canada' 56.0 55000.0]\n",
            " ['United Kingdom' 25.0 40333.333333333336]\n",
            " ['United States' 15.0 20000.0]\n",
            " ['United Kingdom' 40.77777777777778 15000.0]\n",
            " ['United States' 47.0 10000.0]\n",
            " ['United Kingdom' 32.0 90000.0]\n",
            " ['United States' 62.0 48000.0]]\n"
          ]
        }
      ]
    },
    {
      "cell_type": "markdown",
      "metadata": {
        "id": "CriG6VzVSjcK"
      },
      "source": [
        "## 4.0 Encoding categorical data"
      ]
    },
    {
      "cell_type": "markdown",
      "metadata": {
        "id": "AhSpdQWeSsFh"
      },
      "source": [
        "### 4.1 Encoding the Independent Variable"
      ]
    },
    {
      "cell_type": "code",
      "source": [
        "from sklearn.compose import ColumnTransformer\n",
        "from sklearn.preprocessing import OneHotEncoder\n",
        "ct = ColumnTransformer(transformers=[('encoder', OneHotEncoder(), [0])], remainder='passthrough')\n",
        "X = np.array(ct.fit_transform(X))"
      ],
      "metadata": {
        "id": "z4-_7DpPxIzc"
      },
      "execution_count": 17,
      "outputs": []
    },
    {
      "cell_type": "code",
      "source": [
        "print(X)"
      ],
      "metadata": {
        "colab": {
          "base_uri": "https://localhost:8080/"
        },
        "id": "DJnoy4F7zXd_",
        "outputId": "87760bd9-4a26-4aa3-f339-0240d7f5d24e"
      },
      "execution_count": 18,
      "outputs": [
        {
          "output_type": "stream",
          "name": "stdout",
          "text": [
            "[[0.0 0.0 1.0 33.0 65000.0]\n",
            " [1.0 0.0 0.0 47.0 35000.0]\n",
            " [0.0 1.0 0.0 50.0 25000.0]\n",
            " [1.0 0.0 0.0 56.0 55000.0]\n",
            " [0.0 1.0 0.0 25.0 40333.333333333336]\n",
            " [0.0 0.0 1.0 15.0 20000.0]\n",
            " [0.0 1.0 0.0 40.77777777777778 15000.0]\n",
            " [0.0 0.0 1.0 47.0 10000.0]\n",
            " [0.0 1.0 0.0 32.0 90000.0]\n",
            " [0.0 0.0 1.0 62.0 48000.0]]\n"
          ]
        }
      ]
    },
    {
      "cell_type": "markdown",
      "metadata": {
        "id": "DXh8oVSITIc6"
      },
      "source": [
        "### 4.2 Encoding the Dependent Variable"
      ]
    },
    {
      "cell_type": "code",
      "source": [
        "from sklearn.preprocessing import LabelEncoder\n",
        "le = LabelEncoder()\n",
        "y = le.fit_transform(y)"
      ],
      "metadata": {
        "id": "PBHpYG0XzqSH"
      },
      "execution_count": 21,
      "outputs": []
    },
    {
      "cell_type": "code",
      "source": [
        "print(y)"
      ],
      "metadata": {
        "colab": {
          "base_uri": "https://localhost:8080/"
        },
        "id": "n6QirAlQ0VZ2",
        "outputId": "8c7dd691-30d9-4764-ed86-db213daf0ccc"
      },
      "execution_count": 22,
      "outputs": [
        {
          "output_type": "stream",
          "name": "stdout",
          "text": [
            "[0 0 1 1 0 0 1 1 0 1]\n"
          ]
        }
      ]
    },
    {
      "cell_type": "markdown",
      "metadata": {
        "id": "qb_vcgm3qZKW"
      },
      "source": [
        "## 5.0 Splitting the dataset into the Training set and Test set"
      ]
    },
    {
      "cell_type": "code",
      "source": [
        "from sklearn.model_selection import train_test_split\n",
        "X_train, X_test, y_train, y_test = train_test_split(X, y, test_size=0.2, random_state= 1)"
      ],
      "metadata": {
        "id": "pxW-ycb75FUH"
      },
      "execution_count": 23,
      "outputs": []
    },
    {
      "cell_type": "code",
      "source": [
        "print(X_train)"
      ],
      "metadata": {
        "colab": {
          "base_uri": "https://localhost:8080/"
        },
        "id": "4vDackFlbGtc",
        "outputId": "67500ad7-9bcb-4aff-cc75-c85b7fb7b824"
      },
      "execution_count": 24,
      "outputs": [
        {
          "output_type": "stream",
          "name": "stdout",
          "text": [
            "[[0.0 1.0 0.0 40.77777777777778 15000.0]\n",
            " [0.0 1.0 0.0 25.0 40333.333333333336]\n",
            " [0.0 0.0 1.0 33.0 65000.0]\n",
            " [1.0 0.0 0.0 56.0 55000.0]\n",
            " [1.0 0.0 0.0 47.0 35000.0]\n",
            " [0.0 0.0 1.0 47.0 10000.0]\n",
            " [0.0 1.0 0.0 32.0 90000.0]\n",
            " [0.0 0.0 1.0 15.0 20000.0]]\n"
          ]
        }
      ]
    },
    {
      "cell_type": "code",
      "source": [
        "print(X_test)"
      ],
      "metadata": {
        "colab": {
          "base_uri": "https://localhost:8080/"
        },
        "id": "mpO40CXDbG0o",
        "outputId": "56b3469e-9998-4f6e-ba6b-a2f9559b3f9c"
      },
      "execution_count": 25,
      "outputs": [
        {
          "output_type": "stream",
          "name": "stdout",
          "text": [
            "[[0.0 1.0 0.0 50.0 25000.0]\n",
            " [0.0 0.0 1.0 62.0 48000.0]]\n"
          ]
        }
      ]
    },
    {
      "cell_type": "code",
      "source": [
        "print(y_train)"
      ],
      "metadata": {
        "colab": {
          "base_uri": "https://localhost:8080/"
        },
        "id": "xiPXWGoDbG6m",
        "outputId": "5fc4072c-893a-47c3-9ce3-7874843d7b7a"
      },
      "execution_count": 26,
      "outputs": [
        {
          "output_type": "stream",
          "name": "stdout",
          "text": [
            "[1 0 0 1 0 1 0 0]\n"
          ]
        }
      ]
    },
    {
      "cell_type": "code",
      "source": [
        "print(y_test)"
      ],
      "metadata": {
        "colab": {
          "base_uri": "https://localhost:8080/"
        },
        "id": "4fIUUd1qbHAP",
        "outputId": "a170f3c4-e409-4c6c-8645-490912c68ddc"
      },
      "execution_count": 27,
      "outputs": [
        {
          "output_type": "stream",
          "name": "stdout",
          "text": [
            "[1 1]\n"
          ]
        }
      ]
    },
    {
      "cell_type": "markdown",
      "metadata": {
        "id": "TpGqbS4TqkIR"
      },
      "source": [
        "## 6.0 Feature Scaling"
      ]
    },
    {
      "cell_type": "code",
      "source": [
        "from sklearn.preprocessing import StandardScaler\n",
        "sc = StandardScaler()\n",
        "X_train[:, 3:] = sc.fit_transform(X_train[:, 3:])\n",
        "X_test[:, 3:] = sc.transform(X_test[:, 3:])"
      ],
      "metadata": {
        "id": "dSAkFeGCbxQO"
      },
      "execution_count": 28,
      "outputs": []
    },
    {
      "cell_type": "code",
      "source": [
        "print(X_train)"
      ],
      "metadata": {
        "colab": {
          "base_uri": "https://localhost:8080/"
        },
        "id": "uunHu1Bvh0yj",
        "outputId": "c95cd206-7888-4104-a87b-b5cb16eeb02e"
      },
      "execution_count": 29,
      "outputs": [
        {
          "output_type": "stream",
          "name": "stdout",
          "text": [
            "[[0.0 1.0 0.0 0.3051451994200677 -1.0227468570839182]\n",
            " [0.0 1.0 0.0 -0.9599823427010884 -0.03727920398245669]\n",
            " [0.0 0.0 1.0 -0.31850922275233323 0.9222550898268609]\n",
            " [1.0 0.0 0.0 1.5257259971003378 0.533254700444705]\n",
            " [1.0 0.0 0.0 0.8040687371579883 -0.24474607831960654]\n",
            " [0.0 0.0 1.0 0.8040687371579883 -1.217247051774996]\n",
            " [0.0 1.0 0.0 -0.39869336274592765 1.8947560632822502]\n",
            " [0.0 0.0 1.0 -1.7618237426370325 -0.8282466623928403]]\n"
          ]
        }
      ]
    },
    {
      "cell_type": "code",
      "source": [
        "print(X_test)"
      ],
      "metadata": {
        "colab": {
          "base_uri": "https://localhost:8080/"
        },
        "id": "Mh9K4RFvh04_",
        "outputId": "c06470c8-ad5b-42a4-b9eb-8e0c6d75f3ef"
      },
      "execution_count": 30,
      "outputs": [
        {
          "output_type": "stream",
          "name": "stdout",
          "text": [
            "[[0.0 1.0 0.0 1.0446211571387716 -0.6337464677017624]\n",
            " [0.0 0.0 1.0 2.006830837061904 0.26095442787719597]]\n"
          ]
        }
      ]
    }
  ]
}